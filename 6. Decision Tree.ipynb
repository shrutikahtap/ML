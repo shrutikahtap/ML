{
 "cells": [
  {
   "cell_type": "markdown",
   "metadata": {
    "colab_type": "text",
    "id": "rSqlKEVmZPPg"
   },
   "source": [
    "# DECISION TREE"
   ]
  },
  {
   "cell_type": "markdown",
   "metadata": {
    "colab_type": "text",
    "id": "lTFVDShvZTZL"
   },
   "source": [
    "## Importing Libraries"
   ]
  },
  {
   "cell_type": "code",
   "execution_count": 1,
   "metadata": {
    "colab": {},
    "colab_type": "code",
    "executionInfo": {
     "elapsed": 1641,
     "status": "ok",
     "timestamp": 1592907097239,
     "user": {
      "displayName": "Sharoon Saxena",
      "photoUrl": "https://lh3.googleusercontent.com/a-/AOh14GjyKz9rNCPkHi6QK8TjrjBFlTtaI9ngf0hIwgAl=s64",
      "userId": "01167841530696023488"
     },
     "user_tz": -330
    },
    "id": "dXT-cBCoY8Sz"
   },
   "outputs": [],
   "source": [
    "import pandas as pd\n",
    "import numpy as np\n",
    "import matplotlib.pyplot as plt\n",
    "import warnings\n",
    "warnings.filterwarnings(action = 'ignore')\n",
    "#plt.style.use(['seaborn-bright', 'dark_background'])"
   ]
  },
  {
   "cell_type": "raw",
   "metadata": {},
   "source": [
    "Parametric Models:\n",
    "• Make strong assumptions about the form of the mapping function\n",
    "• Very simple and interpretable\n",
    "• Set of parameters does not depend upon the amount of the data\n",
    "\n",
    "A learning model that summarizes data with a set of parameters of fixed size (independent of the number of training examples) is called a parametric model.\n",
    "Artificial Intelligence: A Modern Approach\n",
    "\n",
    "Benefits of the Parametric Algorithms\n",
    "1. Simpler: These methods are easier to understand and interpret results.\n",
    "2. Fast: They are very fast to learn from data.\n",
    "3. Less Data: They do not require as much training data and can work well even if the fit to the data is not perfect.\n",
    "\n",
    "Limitations of Parametric Algorithms\n",
    "1 Constrained: By choosing a functional form these methods are highly constrained to the specified form.\n",
    "2 Limited Complexity: The methods are more suited to simpler problems.\n",
    "3 Poor Fit: In practice the methods are unlikely to match the exact underlying mapping function.\n",
    "\n",
    "Non-Parametric algorithms:\n",
    "• Do not make strong assumptions about the form of the mapping function.\n",
    "• They are free to learn any functional form from the training data."
   ]
  },
  {
   "cell_type": "raw",
   "metadata": {},
   "source": [
    "DECISION TREE:\n",
    "• Objective of decision trees is to have pure nodes.\n",
    "• A decision tree with pure nodes is good at segregating data into respective classes.\n",
    "A decision tree can have multiple splits or multiple decisions.\n",
    "\n",
    "Splitting:\n",
    "• A process of dividing a node into two or more sub nodes.\n",
    "Decision Node:\n",
    "• A sub node that is further divided into sub nodes.\n",
    "Leaf/Terminal Node:\n",
    "• A node which does not split further.\n",
    "Parent Node:\n",
    "A node which is divided into sub-nodes.\n",
    "Child Node:\n",
    "A sub-node of a parent node.\n",
    "Depth of Tree:\n",
    "The length of the longest path from the root node till the leaf node. \n",
    "\n",
    "\n",
    "Types of Decision Trees:\n",
    "1. Classification Decision Tree\n",
    "2. Regression Decision Tree\n",
    "\n",
    "A classification decision tree is used when the target variable is categorical in nature.\n",
    "A regression decision tree is used when the target variable is continuous in nature."
   ]
  },
  {
   "cell_type": "raw",
   "metadata": {},
   "source": [
    "How to determine the criteria to be used to split a decision node ?\n",
    "Gini impurity\n",
    "Information gain using entropy\n",
    "\n",
    "Properties of gini impurity:\n",
    "• It helps in deciding the best split.\n",
    "• Lower the gini impurity, higher will be the homogeneity of the nodes.\n",
    "• It works only with categorical variables.\n",
    "• It performs binary splits only\n",
    "\n",
    "Gini impurity = 1 - gini\n",
    "WHERE gini is the Purity of Nodes\n",
    "1. Here, Gini = (p₁² + p22 + p32... pn²)\n",
    "2. Calculate the gini impurity for split:\n",
    "• Use the weighted impurity of both sub nodes.\n",
    "Weight of a node = number of samples in that node total number of samples in its parent node\n",
    "\n",
    "\n",
    "Split on Performance in Class\n",
    "Students 20\n",
    "\n",
    "• Gini Impurity: Sub-Node Above Average 1-[(0.57) × (0.57) + (0.43) × (0.43)] = 0.49\n",
    "• Gini Impurity: Sub-Node Below Average: 1-[(0.33) × (0.33) + (0.67) × (0.67)] = 0.44\n",
    "• Weighted Gini Impurity: Performance in Class:\n",
    "(14/20) × 0.49 + (6/20) × 0.44 = 0.475\n",
    "14\n",
    "20\n",
    "Weight of the Node × Gini Impurity\n",
    "Students = 20\n",
    "Play cricket = 10\n",
    "Percentage = 50%\n",
    "\n",
    "Above average:(14/20)\n",
    "Students = 14\n",
    "Play Cricket = 8\n",
    "Do Not Play = 6\n",
    "Prob. Play = 0.57\n",
    "Prob. Not Play = 0.43\n",
    "\n",
    "Below average:(6/20)\n",
    "Students 6\n",
    "Play Cricket = 2\n",
    "Do Not Play = 4\n",
    "Prob. Play = 0.33\n",
    "Prob. Not Play = 0.67\n",
    "\n",
    "Lesser the value of gini impurity, more is the purity of the node.\n",
    "Weight Gini Impurity\n",
    "Performance in Class: 0.475\n",
    "Grade: 0.32\n",
    "\n",
    "The more impure a node is, the more information is required to describe the node."
   ]
  },
  {
   "cell_type": "raw",
   "metadata": {},
   "source": [
    "Information Gain\n",
    "The difference between information needed to describe the parent node and information needed to describe the children node.\n",
    "The more is the homogeneity of the nodes, the more is the information gain.\n",
    "The higher is the information gain, the more is the homogeneity.\n",
    "\n",
    "IG = 1 - Entropy(subnodes)\n",
    "Entropy = P₁log(P1) - P2log (P2) - P3log(P3) - Pnlog(Pn)\n",
    "\n",
    "Steps to calculate the entropy for a split:\n",
    "• Calculate the entropy of the parent node.\n",
    "• Calculate the entropy of each child node.\n",
    "• Calculate the weighted average entropy of the split.\n",
    "• If the weighted entropy of the child node is greater than the parent node, ignore the split.\n",
    "\n",
    "    Split               Entropy          Information Gain = 1 - Entropy\n",
    "Performance in Class:   0.959                     0.041\n",
    "Grade:                  0.722                     0.278\n"
   ]
  },
  {
   "cell_type": "raw",
   "metadata": {},
   "source": [
    "Explain reduction of variance criterion of splitting a decision node in case of regression problem.\n",
    "Why are information gain and gini impurity not applicable to decision tree regressor to calculate impurity?\n",
    "The target value in a decision tree regressor is a continuous value.\n",
    "How to quantify something similar like homogeneity in a continuous target variable?\n",
    "The variation among the values in the resultant node should be minimal.\n",
    "           n\n",
    "Variance=  Σ     (μ – χ₁)2/n\n",
    "          i = 1\n",
    "\n",
    "where, χ₁ is the The Data Point\n",
    "The variable with lower variance is used for splitting.\n",
    "\n",
    "Calculate the variance of each child node using:\n",
    "Step 1:\n",
    "           n\n",
    "Variance=  Σ     (μ – χ₁)2/n\n",
    "          i = 1\n",
    "\n",
    "Step 2:\n",
    "Calculate the variance of split.\n",
    "\n",
    "Split                      Variance\n",
    "Performance in Class        0.238\n",
    "Grade                       0.16\n",
    "\n",
    "Lesser the variance, better the split.\n",
    "\n",
    "Decision Tree Classifier            Decision Tree Regressor\n",
    "Gini Impurity                           Variance\n",
    "Information Gain                        Variance"
   ]
  },
  {
   "cell_type": "raw",
   "metadata": {},
   "source": [
    "Logic behind the working of the decision tree:\n",
    "    \n",
    "Gini criterion of splitting a decision node.\n",
    "Entropy and information gain for splitting a node.\n",
    "Reduction of variance criterion of splitting a decision node\n",
    "Step 1:\n",
    "Do the basic preprocessing of the data.\n",
    "Step 2:\n",
    "Import the decision tree algorithm from sklearn library.\n",
    "Step 3:\n",
    "Finding out the performance of the decision tree model.\n",
    "Step 4:\n",
    "Printing the classification report\n",
    "Evaluate the model over predictions on the training set"
   ]
  },
  {
   "cell_type": "markdown",
   "metadata": {
    "colab_type": "text",
    "id": "CHewgpLhZkWN"
   },
   "source": [
    "## Importing dataset"
   ]
  },
  {
   "cell_type": "code",
   "execution_count": 2,
   "metadata": {
    "colab": {
     "base_uri": "https://localhost:8080/",
     "height": 224
    },
    "colab_type": "code",
    "executionInfo": {
     "elapsed": 2455,
     "status": "ok",
     "timestamp": 1592907098065,
     "user": {
      "displayName": "Sharoon Saxena",
      "photoUrl": "https://lh3.googleusercontent.com/a-/AOh14GjyKz9rNCPkHi6QK8TjrjBFlTtaI9ngf0hIwgAl=s64",
      "userId": "01167841530696023488"
     },
     "user_tz": -330
    },
    "id": "VS_2ddomZkB1",
    "outputId": "16afc493-558b-4289-8997-c4e598701d91"
   },
   "outputs": [
    {
     "data": {
      "text/html": [
       "<div>\n",
       "<style scoped>\n",
       "    .dataframe tbody tr th:only-of-type {\n",
       "        vertical-align: middle;\n",
       "    }\n",
       "\n",
       "    .dataframe tbody tr th {\n",
       "        vertical-align: top;\n",
       "    }\n",
       "\n",
       "    .dataframe thead th {\n",
       "        text-align: right;\n",
       "    }\n",
       "</style>\n",
       "<table border=\"1\" class=\"dataframe\">\n",
       "  <thead>\n",
       "    <tr style=\"text-align: right;\">\n",
       "      <th></th>\n",
       "      <th>customer_id</th>\n",
       "      <th>vintage</th>\n",
       "      <th>age</th>\n",
       "      <th>gender</th>\n",
       "      <th>dependents</th>\n",
       "      <th>occupation</th>\n",
       "      <th>city</th>\n",
       "      <th>customer_nw_category</th>\n",
       "      <th>branch_code</th>\n",
       "      <th>days_since_last_transaction</th>\n",
       "      <th>...</th>\n",
       "      <th>previous_month_end_balance</th>\n",
       "      <th>average_monthly_balance_prevQ</th>\n",
       "      <th>average_monthly_balance_prevQ2</th>\n",
       "      <th>current_month_credit</th>\n",
       "      <th>previous_month_credit</th>\n",
       "      <th>current_month_debit</th>\n",
       "      <th>previous_month_debit</th>\n",
       "      <th>current_month_balance</th>\n",
       "      <th>previous_month_balance</th>\n",
       "      <th>churn</th>\n",
       "    </tr>\n",
       "  </thead>\n",
       "  <tbody>\n",
       "    <tr>\n",
       "      <th>0</th>\n",
       "      <td>1</td>\n",
       "      <td>3135</td>\n",
       "      <td>66</td>\n",
       "      <td>0</td>\n",
       "      <td>0.0</td>\n",
       "      <td>0</td>\n",
       "      <td>187.0</td>\n",
       "      <td>2</td>\n",
       "      <td>755</td>\n",
       "      <td>224.0</td>\n",
       "      <td>...</td>\n",
       "      <td>1458.71</td>\n",
       "      <td>1458.71</td>\n",
       "      <td>1449.07</td>\n",
       "      <td>0.20</td>\n",
       "      <td>0.20</td>\n",
       "      <td>0.20</td>\n",
       "      <td>0.20</td>\n",
       "      <td>1458.71</td>\n",
       "      <td>1458.71</td>\n",
       "      <td>0</td>\n",
       "    </tr>\n",
       "    <tr>\n",
       "      <th>1</th>\n",
       "      <td>6</td>\n",
       "      <td>2531</td>\n",
       "      <td>42</td>\n",
       "      <td>0</td>\n",
       "      <td>2.0</td>\n",
       "      <td>0</td>\n",
       "      <td>1494.0</td>\n",
       "      <td>3</td>\n",
       "      <td>388</td>\n",
       "      <td>58.0</td>\n",
       "      <td>...</td>\n",
       "      <td>1401.72</td>\n",
       "      <td>1643.31</td>\n",
       "      <td>1871.12</td>\n",
       "      <td>0.33</td>\n",
       "      <td>714.61</td>\n",
       "      <td>588.62</td>\n",
       "      <td>1538.06</td>\n",
       "      <td>1157.15</td>\n",
       "      <td>1677.16</td>\n",
       "      <td>1</td>\n",
       "    </tr>\n",
       "    <tr>\n",
       "      <th>2</th>\n",
       "      <td>7</td>\n",
       "      <td>263</td>\n",
       "      <td>42</td>\n",
       "      <td>1</td>\n",
       "      <td>0.0</td>\n",
       "      <td>0</td>\n",
       "      <td>1096.0</td>\n",
       "      <td>2</td>\n",
       "      <td>1666</td>\n",
       "      <td>60.0</td>\n",
       "      <td>...</td>\n",
       "      <td>16059.34</td>\n",
       "      <td>15211.29</td>\n",
       "      <td>13798.82</td>\n",
       "      <td>0.36</td>\n",
       "      <td>0.36</td>\n",
       "      <td>857.50</td>\n",
       "      <td>286.07</td>\n",
       "      <td>15719.44</td>\n",
       "      <td>15349.75</td>\n",
       "      <td>0</td>\n",
       "    </tr>\n",
       "    <tr>\n",
       "      <th>3</th>\n",
       "      <td>8</td>\n",
       "      <td>5922</td>\n",
       "      <td>72</td>\n",
       "      <td>0</td>\n",
       "      <td>0.0</td>\n",
       "      <td>1</td>\n",
       "      <td>1020.0</td>\n",
       "      <td>1</td>\n",
       "      <td>1</td>\n",
       "      <td>98.0</td>\n",
       "      <td>...</td>\n",
       "      <td>7714.19</td>\n",
       "      <td>7859.74</td>\n",
       "      <td>11232.37</td>\n",
       "      <td>0.64</td>\n",
       "      <td>0.64</td>\n",
       "      <td>1299.64</td>\n",
       "      <td>439.26</td>\n",
       "      <td>7076.06</td>\n",
       "      <td>7755.98</td>\n",
       "      <td>0</td>\n",
       "    </tr>\n",
       "    <tr>\n",
       "      <th>4</th>\n",
       "      <td>9</td>\n",
       "      <td>1145</td>\n",
       "      <td>46</td>\n",
       "      <td>0</td>\n",
       "      <td>0.0</td>\n",
       "      <td>0</td>\n",
       "      <td>623.0</td>\n",
       "      <td>2</td>\n",
       "      <td>317</td>\n",
       "      <td>172.0</td>\n",
       "      <td>...</td>\n",
       "      <td>8519.53</td>\n",
       "      <td>6511.82</td>\n",
       "      <td>16314.17</td>\n",
       "      <td>0.27</td>\n",
       "      <td>0.27</td>\n",
       "      <td>443.13</td>\n",
       "      <td>5688.44</td>\n",
       "      <td>8563.84</td>\n",
       "      <td>5317.04</td>\n",
       "      <td>0</td>\n",
       "    </tr>\n",
       "  </tbody>\n",
       "</table>\n",
       "<p>5 rows × 21 columns</p>\n",
       "</div>"
      ],
      "text/plain": [
       "   customer_id  vintage  age  gender  dependents  occupation    city  \\\n",
       "0            1     3135   66       0         0.0           0   187.0   \n",
       "1            6     2531   42       0         2.0           0  1494.0   \n",
       "2            7      263   42       1         0.0           0  1096.0   \n",
       "3            8     5922   72       0         0.0           1  1020.0   \n",
       "4            9     1145   46       0         0.0           0   623.0   \n",
       "\n",
       "   customer_nw_category  branch_code  days_since_last_transaction  ...  \\\n",
       "0                     2          755                        224.0  ...   \n",
       "1                     3          388                         58.0  ...   \n",
       "2                     2         1666                         60.0  ...   \n",
       "3                     1            1                         98.0  ...   \n",
       "4                     2          317                        172.0  ...   \n",
       "\n",
       "   previous_month_end_balance  average_monthly_balance_prevQ  \\\n",
       "0                     1458.71                        1458.71   \n",
       "1                     1401.72                        1643.31   \n",
       "2                    16059.34                       15211.29   \n",
       "3                     7714.19                        7859.74   \n",
       "4                     8519.53                        6511.82   \n",
       "\n",
       "   average_monthly_balance_prevQ2  current_month_credit  \\\n",
       "0                         1449.07                  0.20   \n",
       "1                         1871.12                  0.33   \n",
       "2                        13798.82                  0.36   \n",
       "3                        11232.37                  0.64   \n",
       "4                        16314.17                  0.27   \n",
       "\n",
       "   previous_month_credit  current_month_debit  previous_month_debit  \\\n",
       "0                   0.20                 0.20                  0.20   \n",
       "1                 714.61               588.62               1538.06   \n",
       "2                   0.36               857.50                286.07   \n",
       "3                   0.64              1299.64                439.26   \n",
       "4                   0.27               443.13               5688.44   \n",
       "\n",
       "   current_month_balance  previous_month_balance  churn  \n",
       "0                1458.71                 1458.71      0  \n",
       "1                1157.15                 1677.16      1  \n",
       "2               15719.44                15349.75      0  \n",
       "3                7076.06                 7755.98      0  \n",
       "4                8563.84                 5317.04      0  \n",
       "\n",
       "[5 rows x 21 columns]"
      ]
     },
     "execution_count": 2,
     "metadata": {},
     "output_type": "execute_result"
    }
   ],
   "source": [
    "data = pd.read_csv('churn_prediction_simple.csv')\n",
    "data.head()"
   ]
  },
  {
   "cell_type": "code",
   "execution_count": 3,
   "metadata": {
    "colab": {
     "base_uri": "https://localhost:8080/",
     "height": 317
    },
    "colab_type": "code",
    "executionInfo": {
     "elapsed": 2445,
     "status": "ok",
     "timestamp": 1592907098066,
     "user": {
      "displayName": "Sharoon Saxena",
      "photoUrl": "https://lh3.googleusercontent.com/a-/AOh14GjyKz9rNCPkHi6QK8TjrjBFlTtaI9ngf0hIwgAl=s64",
      "userId": "01167841530696023488"
     },
     "user_tz": -330
    },
    "id": "KS9maF64Zfh_",
    "outputId": "1d0f0807-be16-4ffa-df84-e224450157eb",
    "scrolled": false
   },
   "outputs": [
    {
     "data": {
      "text/html": [
       "<div>\n",
       "<style scoped>\n",
       "    .dataframe tbody tr th:only-of-type {\n",
       "        vertical-align: middle;\n",
       "    }\n",
       "\n",
       "    .dataframe tbody tr th {\n",
       "        vertical-align: top;\n",
       "    }\n",
       "\n",
       "    .dataframe thead th {\n",
       "        text-align: right;\n",
       "    }\n",
       "</style>\n",
       "<table border=\"1\" class=\"dataframe\">\n",
       "  <thead>\n",
       "    <tr style=\"text-align: right;\">\n",
       "      <th></th>\n",
       "      <th>customer_id</th>\n",
       "      <th>vintage</th>\n",
       "      <th>age</th>\n",
       "      <th>gender</th>\n",
       "      <th>dependents</th>\n",
       "      <th>occupation</th>\n",
       "      <th>city</th>\n",
       "      <th>customer_nw_category</th>\n",
       "      <th>branch_code</th>\n",
       "      <th>days_since_last_transaction</th>\n",
       "      <th>...</th>\n",
       "      <th>previous_month_end_balance</th>\n",
       "      <th>average_monthly_balance_prevQ</th>\n",
       "      <th>average_monthly_balance_prevQ2</th>\n",
       "      <th>current_month_credit</th>\n",
       "      <th>previous_month_credit</th>\n",
       "      <th>current_month_debit</th>\n",
       "      <th>previous_month_debit</th>\n",
       "      <th>current_month_balance</th>\n",
       "      <th>previous_month_balance</th>\n",
       "      <th>churn</th>\n",
       "    </tr>\n",
       "  </thead>\n",
       "  <tbody>\n",
       "    <tr>\n",
       "      <th>count</th>\n",
       "      <td>22067.000000</td>\n",
       "      <td>22067.000000</td>\n",
       "      <td>22067.000000</td>\n",
       "      <td>22067.000000</td>\n",
       "      <td>22067.000000</td>\n",
       "      <td>22067.000000</td>\n",
       "      <td>22067.000000</td>\n",
       "      <td>22067.000000</td>\n",
       "      <td>22067.000000</td>\n",
       "      <td>22067.000000</td>\n",
       "      <td>...</td>\n",
       "      <td>2.206700e+04</td>\n",
       "      <td>2.206700e+04</td>\n",
       "      <td>22067.000000</td>\n",
       "      <td>2.206700e+04</td>\n",
       "      <td>2.206700e+04</td>\n",
       "      <td>2.206700e+04</td>\n",
       "      <td>2.206700e+04</td>\n",
       "      <td>2.206700e+04</td>\n",
       "      <td>2.206700e+04</td>\n",
       "      <td>22067.000000</td>\n",
       "    </tr>\n",
       "    <tr>\n",
       "      <th>mean</th>\n",
       "      <td>15115.161372</td>\n",
       "      <td>2547.069334</td>\n",
       "      <td>47.931345</td>\n",
       "      <td>0.391807</td>\n",
       "      <td>0.377487</td>\n",
       "      <td>0.772420</td>\n",
       "      <td>800.318575</td>\n",
       "      <td>2.211991</td>\n",
       "      <td>874.440975</td>\n",
       "      <td>66.934790</td>\n",
       "      <td>...</td>\n",
       "      <td>7.222013e+03</td>\n",
       "      <td>7.181977e+03</td>\n",
       "      <td>6694.966494</td>\n",
       "      <td>3.943065e+03</td>\n",
       "      <td>3.781366e+03</td>\n",
       "      <td>4.070565e+03</td>\n",
       "      <td>3.720333e+03</td>\n",
       "      <td>7.165418e+03</td>\n",
       "      <td>7.182148e+03</td>\n",
       "      <td>0.193683</td>\n",
       "    </tr>\n",
       "    <tr>\n",
       "      <th>std</th>\n",
       "      <td>8737.384035</td>\n",
       "      <td>1598.675520</td>\n",
       "      <td>16.393352</td>\n",
       "      <td>0.488165</td>\n",
       "      <td>1.044629</td>\n",
       "      <td>1.033849</td>\n",
       "      <td>431.454448</td>\n",
       "      <td>0.669556</td>\n",
       "      <td>904.244526</td>\n",
       "      <td>84.133427</td>\n",
       "      <td>...</td>\n",
       "      <td>2.105071e+04</td>\n",
       "      <td>1.927121e+04</td>\n",
       "      <td>17101.802052</td>\n",
       "      <td>8.661750e+04</td>\n",
       "      <td>3.254151e+04</td>\n",
       "      <td>5.726446e+04</td>\n",
       "      <td>2.517514e+04</td>\n",
       "      <td>1.959007e+04</td>\n",
       "      <td>2.097682e+04</td>\n",
       "      <td>0.395192</td>\n",
       "    </tr>\n",
       "    <tr>\n",
       "      <th>min</th>\n",
       "      <td>1.000000</td>\n",
       "      <td>180.000000</td>\n",
       "      <td>1.000000</td>\n",
       "      <td>0.000000</td>\n",
       "      <td>0.000000</td>\n",
       "      <td>0.000000</td>\n",
       "      <td>0.000000</td>\n",
       "      <td>1.000000</td>\n",
       "      <td>1.000000</td>\n",
       "      <td>0.000000</td>\n",
       "      <td>...</td>\n",
       "      <td>-3.145380e+03</td>\n",
       "      <td>1.428690e+03</td>\n",
       "      <td>-16506.100000</td>\n",
       "      <td>1.000000e-02</td>\n",
       "      <td>1.000000e-02</td>\n",
       "      <td>1.000000e-02</td>\n",
       "      <td>1.000000e-02</td>\n",
       "      <td>-3.374180e+03</td>\n",
       "      <td>-5.171920e+03</td>\n",
       "      <td>0.000000</td>\n",
       "    </tr>\n",
       "    <tr>\n",
       "      <th>25%</th>\n",
       "      <td>7522.500000</td>\n",
       "      <td>1321.000000</td>\n",
       "      <td>36.000000</td>\n",
       "      <td>0.000000</td>\n",
       "      <td>0.000000</td>\n",
       "      <td>0.000000</td>\n",
       "      <td>409.000000</td>\n",
       "      <td>2.000000</td>\n",
       "      <td>159.000000</td>\n",
       "      <td>11.000000</td>\n",
       "      <td>...</td>\n",
       "      <td>1.906485e+03</td>\n",
       "      <td>2.209835e+03</td>\n",
       "      <td>1817.980000</td>\n",
       "      <td>3.600000e-01</td>\n",
       "      <td>3.700000e-01</td>\n",
       "      <td>4.700000e-01</td>\n",
       "      <td>4.900000e-01</td>\n",
       "      <td>2.029970e+03</td>\n",
       "      <td>2.090665e+03</td>\n",
       "      <td>0.000000</td>\n",
       "    </tr>\n",
       "    <tr>\n",
       "      <th>50%</th>\n",
       "      <td>15120.000000</td>\n",
       "      <td>2202.000000</td>\n",
       "      <td>46.000000</td>\n",
       "      <td>0.000000</td>\n",
       "      <td>0.000000</td>\n",
       "      <td>0.000000</td>\n",
       "      <td>848.000000</td>\n",
       "      <td>2.000000</td>\n",
       "      <td>531.000000</td>\n",
       "      <td>28.000000</td>\n",
       "      <td>...</td>\n",
       "      <td>3.426740e+03</td>\n",
       "      <td>3.592880e+03</td>\n",
       "      <td>3380.690000</td>\n",
       "      <td>1.130000e+00</td>\n",
       "      <td>6.440000e+00</td>\n",
       "      <td>2.147300e+02</td>\n",
       "      <td>2.285000e+02</td>\n",
       "      <td>3.501740e+03</td>\n",
       "      <td>3.508160e+03</td>\n",
       "      <td>0.000000</td>\n",
       "    </tr>\n",
       "    <tr>\n",
       "      <th>75%</th>\n",
       "      <td>22685.500000</td>\n",
       "      <td>3370.000000</td>\n",
       "      <td>60.000000</td>\n",
       "      <td>1.000000</td>\n",
       "      <td>0.000000</td>\n",
       "      <td>2.000000</td>\n",
       "      <td>1096.000000</td>\n",
       "      <td>3.000000</td>\n",
       "      <td>1374.000000</td>\n",
       "      <td>90.000000</td>\n",
       "      <td>...</td>\n",
       "      <td>6.826095e+03</td>\n",
       "      <td>6.819235e+03</td>\n",
       "      <td>6628.750000</td>\n",
       "      <td>9.937800e+02</td>\n",
       "      <td>1.129115e+03</td>\n",
       "      <td>1.579220e+03</td>\n",
       "      <td>1.643175e+03</td>\n",
       "      <td>6.858385e+03</td>\n",
       "      <td>6.779355e+03</td>\n",
       "      <td>0.000000</td>\n",
       "    </tr>\n",
       "    <tr>\n",
       "      <th>max</th>\n",
       "      <td>30301.000000</td>\n",
       "      <td>11353.000000</td>\n",
       "      <td>90.000000</td>\n",
       "      <td>1.000000</td>\n",
       "      <td>52.000000</td>\n",
       "      <td>4.000000</td>\n",
       "      <td>1649.000000</td>\n",
       "      <td>3.000000</td>\n",
       "      <td>4782.000000</td>\n",
       "      <td>365.000000</td>\n",
       "      <td>...</td>\n",
       "      <td>1.001124e+06</td>\n",
       "      <td>1.192704e+06</td>\n",
       "      <td>856596.510000</td>\n",
       "      <td>1.226985e+07</td>\n",
       "      <td>2.361808e+06</td>\n",
       "      <td>7.637857e+06</td>\n",
       "      <td>1.414168e+06</td>\n",
       "      <td>1.074625e+06</td>\n",
       "      <td>1.326487e+06</td>\n",
       "      <td>1.000000</td>\n",
       "    </tr>\n",
       "  </tbody>\n",
       "</table>\n",
       "<p>8 rows × 21 columns</p>\n",
       "</div>"
      ],
      "text/plain": [
       "        customer_id       vintage           age        gender    dependents  \\\n",
       "count  22067.000000  22067.000000  22067.000000  22067.000000  22067.000000   \n",
       "mean   15115.161372   2547.069334     47.931345      0.391807      0.377487   \n",
       "std     8737.384035   1598.675520     16.393352      0.488165      1.044629   \n",
       "min        1.000000    180.000000      1.000000      0.000000      0.000000   \n",
       "25%     7522.500000   1321.000000     36.000000      0.000000      0.000000   \n",
       "50%    15120.000000   2202.000000     46.000000      0.000000      0.000000   \n",
       "75%    22685.500000   3370.000000     60.000000      1.000000      0.000000   \n",
       "max    30301.000000  11353.000000     90.000000      1.000000     52.000000   \n",
       "\n",
       "         occupation          city  customer_nw_category   branch_code  \\\n",
       "count  22067.000000  22067.000000          22067.000000  22067.000000   \n",
       "mean       0.772420    800.318575              2.211991    874.440975   \n",
       "std        1.033849    431.454448              0.669556    904.244526   \n",
       "min        0.000000      0.000000              1.000000      1.000000   \n",
       "25%        0.000000    409.000000              2.000000    159.000000   \n",
       "50%        0.000000    848.000000              2.000000    531.000000   \n",
       "75%        2.000000   1096.000000              3.000000   1374.000000   \n",
       "max        4.000000   1649.000000              3.000000   4782.000000   \n",
       "\n",
       "       days_since_last_transaction  ...  previous_month_end_balance  \\\n",
       "count                 22067.000000  ...                2.206700e+04   \n",
       "mean                     66.934790  ...                7.222013e+03   \n",
       "std                      84.133427  ...                2.105071e+04   \n",
       "min                       0.000000  ...               -3.145380e+03   \n",
       "25%                      11.000000  ...                1.906485e+03   \n",
       "50%                      28.000000  ...                3.426740e+03   \n",
       "75%                      90.000000  ...                6.826095e+03   \n",
       "max                     365.000000  ...                1.001124e+06   \n",
       "\n",
       "       average_monthly_balance_prevQ  average_monthly_balance_prevQ2  \\\n",
       "count                   2.206700e+04                    22067.000000   \n",
       "mean                    7.181977e+03                     6694.966494   \n",
       "std                     1.927121e+04                    17101.802052   \n",
       "min                     1.428690e+03                   -16506.100000   \n",
       "25%                     2.209835e+03                     1817.980000   \n",
       "50%                     3.592880e+03                     3380.690000   \n",
       "75%                     6.819235e+03                     6628.750000   \n",
       "max                     1.192704e+06                   856596.510000   \n",
       "\n",
       "       current_month_credit  previous_month_credit  current_month_debit  \\\n",
       "count          2.206700e+04           2.206700e+04         2.206700e+04   \n",
       "mean           3.943065e+03           3.781366e+03         4.070565e+03   \n",
       "std            8.661750e+04           3.254151e+04         5.726446e+04   \n",
       "min            1.000000e-02           1.000000e-02         1.000000e-02   \n",
       "25%            3.600000e-01           3.700000e-01         4.700000e-01   \n",
       "50%            1.130000e+00           6.440000e+00         2.147300e+02   \n",
       "75%            9.937800e+02           1.129115e+03         1.579220e+03   \n",
       "max            1.226985e+07           2.361808e+06         7.637857e+06   \n",
       "\n",
       "       previous_month_debit  current_month_balance  previous_month_balance  \\\n",
       "count          2.206700e+04           2.206700e+04            2.206700e+04   \n",
       "mean           3.720333e+03           7.165418e+03            7.182148e+03   \n",
       "std            2.517514e+04           1.959007e+04            2.097682e+04   \n",
       "min            1.000000e-02          -3.374180e+03           -5.171920e+03   \n",
       "25%            4.900000e-01           2.029970e+03            2.090665e+03   \n",
       "50%            2.285000e+02           3.501740e+03            3.508160e+03   \n",
       "75%            1.643175e+03           6.858385e+03            6.779355e+03   \n",
       "max            1.414168e+06           1.074625e+06            1.326487e+06   \n",
       "\n",
       "              churn  \n",
       "count  22067.000000  \n",
       "mean       0.193683  \n",
       "std        0.395192  \n",
       "min        0.000000  \n",
       "25%        0.000000  \n",
       "50%        0.000000  \n",
       "75%        0.000000  \n",
       "max        1.000000  \n",
       "\n",
       "[8 rows x 21 columns]"
      ]
     },
     "execution_count": 3,
     "metadata": {},
     "output_type": "execute_result"
    }
   ],
   "source": [
    "data.describe()"
   ]
  },
  {
   "cell_type": "code",
   "execution_count": 4,
   "metadata": {
    "colab": {
     "base_uri": "https://localhost:8080/",
     "height": 493
    },
    "colab_type": "code",
    "executionInfo": {
     "elapsed": 2437,
     "status": "ok",
     "timestamp": 1592907098068,
     "user": {
      "displayName": "Sharoon Saxena",
      "photoUrl": "https://lh3.googleusercontent.com/a-/AOh14GjyKz9rNCPkHi6QK8TjrjBFlTtaI9ngf0hIwgAl=s64",
      "userId": "01167841530696023488"
     },
     "user_tz": -330
    },
    "id": "eA93PuqYugKo",
    "outputId": "83082478-e1ac-42a6-a7e9-d4c38231796e",
    "scrolled": true
   },
   "outputs": [
    {
     "name": "stdout",
     "output_type": "stream",
     "text": [
      "<class 'pandas.core.frame.DataFrame'>\n",
      "RangeIndex: 22067 entries, 0 to 22066\n",
      "Data columns (total 21 columns):\n",
      " #   Column                          Non-Null Count  Dtype  \n",
      "---  ------                          --------------  -----  \n",
      " 0   customer_id                     22067 non-null  int64  \n",
      " 1   vintage                         22067 non-null  int64  \n",
      " 2   age                             22067 non-null  int64  \n",
      " 3   gender                          22067 non-null  int64  \n",
      " 4   dependents                      22067 non-null  float64\n",
      " 5   occupation                      22067 non-null  int64  \n",
      " 6   city                            22067 non-null  float64\n",
      " 7   customer_nw_category            22067 non-null  int64  \n",
      " 8   branch_code                     22067 non-null  int64  \n",
      " 9   days_since_last_transaction     22067 non-null  float64\n",
      " 10  current_balance                 22067 non-null  float64\n",
      " 11  previous_month_end_balance      22067 non-null  float64\n",
      " 12  average_monthly_balance_prevQ   22067 non-null  float64\n",
      " 13  average_monthly_balance_prevQ2  22067 non-null  float64\n",
      " 14  current_month_credit            22067 non-null  float64\n",
      " 15  previous_month_credit           22067 non-null  float64\n",
      " 16  current_month_debit             22067 non-null  float64\n",
      " 17  previous_month_debit            22067 non-null  float64\n",
      " 18  current_month_balance           22067 non-null  float64\n",
      " 19  previous_month_balance          22067 non-null  float64\n",
      " 20  churn                           22067 non-null  int64  \n",
      "dtypes: float64(13), int64(8)\n",
      "memory usage: 3.5 MB\n"
     ]
    }
   ],
   "source": [
    "data.info()"
   ]
  },
  {
   "cell_type": "code",
   "execution_count": 5,
   "metadata": {
    "colab": {},
    "colab_type": "code",
    "executionInfo": {
     "elapsed": 2426,
     "status": "ok",
     "timestamp": 1592907098069,
     "user": {
      "displayName": "Sharoon Saxena",
      "photoUrl": "https://lh3.googleusercontent.com/a-/AOh14GjyKz9rNCPkHi6QK8TjrjBFlTtaI9ngf0hIwgAl=s64",
      "userId": "01167841530696023488"
     },
     "user_tz": -330
    },
    "id": "EwvruWpJfLJQ"
   },
   "outputs": [],
   "source": [
    "#separating dependent and independent varibales\n",
    "Y = data['churn']\n",
    "X = data.drop(columns = ['churn','customer_id'])"
   ]
  },
  {
   "cell_type": "code",
   "execution_count": 6,
   "metadata": {
    "colab": {},
    "colab_type": "code",
    "executionInfo": {
     "elapsed": 2420,
     "status": "ok",
     "timestamp": 1592907098070,
     "user": {
      "displayName": "Sharoon Saxena",
      "photoUrl": "https://lh3.googleusercontent.com/a-/AOh14GjyKz9rNCPkHi6QK8TjrjBFlTtaI9ngf0hIwgAl=s64",
      "userId": "01167841530696023488"
     },
     "user_tz": -330
    },
    "id": "fDLS1GwIVBCi"
   },
   "outputs": [],
   "source": [
    "#Scaling the dataset\n",
    "from sklearn.preprocessing import StandardScaler\n",
    "scaler = StandardScaler()\n",
    "scaled_X = scaler.fit_transform(X)"
   ]
  },
  {
   "cell_type": "code",
   "execution_count": 7,
   "metadata": {
    "colab": {
     "base_uri": "https://localhost:8080/",
     "height": 34
    },
    "colab_type": "code",
    "executionInfo": {
     "elapsed": 2416,
     "status": "ok",
     "timestamp": 1592907098073,
     "user": {
      "displayName": "Sharoon Saxena",
      "photoUrl": "https://lh3.googleusercontent.com/a-/AOh14GjyKz9rNCPkHi6QK8TjrjBFlTtaI9ngf0hIwgAl=s64",
      "userId": "01167841530696023488"
     },
     "user_tz": -330
    },
    "id": "Ez20o7U-gDPM",
    "outputId": "b75616cc-b218-408b-92c9-44dd20748b78"
   },
   "outputs": [
    {
     "data": {
      "text/plain": [
       "((17653, 19), (4414, 19), (17653,), (4414,))"
      ]
     },
     "execution_count": 7,
     "metadata": {},
     "output_type": "execute_result"
    }
   ],
   "source": [
    "#splitting the dataset\n",
    "from sklearn.model_selection import train_test_split as tts\n",
    "x_train, x_test, y_train, y_test = tts(scaled_X, Y, train_size = 0.80, stratify = Y)\n",
    "x_train.shape, x_test.shape, y_train.shape, y_test.shape\n",
    "\n",
    "# In the \"train_test_split\" function, the \"stratify\" argument is used upon the test data.\n",
    "# The sole purpose of the argument is to ensure that the same proportion of examples is preserved \n",
    "# across each class of training and testing data."
   ]
  },
  {
   "cell_type": "markdown",
   "metadata": {
    "colab_type": "text",
    "id": "tZbwrG4gOlLH"
   },
   "source": [
    "## Model Building, predictions"
   ]
  },
  {
   "cell_type": "code",
   "execution_count": 8,
   "metadata": {
    "colab": {
     "base_uri": "https://localhost:8080/",
     "height": 221
    },
    "colab_type": "code",
    "executionInfo": {
     "elapsed": 2406,
     "status": "ok",
     "timestamp": 1592907098074,
     "user": {
      "displayName": "Sharoon Saxena",
      "photoUrl": "https://lh3.googleusercontent.com/a-/AOh14GjyKz9rNCPkHi6QK8TjrjBFlTtaI9ngf0hIwgAl=s64",
      "userId": "01167841530696023488"
     },
     "user_tz": -330
    },
    "id": "8aoWEmDU5i4l",
    "outputId": "de6a3f88-2cc0-4787-a7dc-ac4e3ff0129d",
    "scrolled": false
   },
   "outputs": [
    {
     "data": {
      "text/plain": [
       "3125     0\n",
       "16812    0\n",
       "4447     0\n",
       "10871    0\n",
       "9276     0\n",
       "        ..\n",
       "11629    0\n",
       "9765     0\n",
       "16348    0\n",
       "8291     0\n",
       "13827    0\n",
       "Name: churn, Length: 17653, dtype: int64"
      ]
     },
     "execution_count": 8,
     "metadata": {},
     "output_type": "execute_result"
    }
   ],
   "source": [
    "y_train"
   ]
  },
  {
   "cell_type": "code",
   "execution_count": 9,
   "metadata": {
    "colab": {},
    "colab_type": "code",
    "executionInfo": {
     "elapsed": 2396,
     "status": "ok",
     "timestamp": 1592907098076,
     "user": {
      "displayName": "Sharoon Saxena",
      "photoUrl": "https://lh3.googleusercontent.com/a-/AOh14GjyKz9rNCPkHi6QK8TjrjBFlTtaI9ngf0hIwgAl=s64",
      "userId": "01167841530696023488"
     },
     "user_tz": -330
    },
    "id": "N_llwn2Pdtvz"
   },
   "outputs": [],
   "source": [
    "from sklearn.tree import DecisionTreeClassifier as DTC\n",
    "classifier = DTC( class_weight = 'balanced')\n",
    "classifier = DTC()"
   ]
  },
  {
   "cell_type": "code",
   "execution_count": 10,
   "metadata": {
    "colab": {},
    "colab_type": "code",
    "executionInfo": {
     "elapsed": 3155,
     "status": "ok",
     "timestamp": 1592907098845,
     "user": {
      "displayName": "Sharoon Saxena",
      "photoUrl": "https://lh3.googleusercontent.com/a-/AOh14GjyKz9rNCPkHi6QK8TjrjBFlTtaI9ngf0hIwgAl=s64",
      "userId": "01167841530696023488"
     },
     "user_tz": -330
    },
    "id": "ovu6BdW5ea-T"
   },
   "outputs": [],
   "source": [
    "classifier.fit(x_train, y_train)\n",
    "predicted_values = classifier.predict(x_train)"
   ]
  },
  {
   "cell_type": "code",
   "execution_count": 11,
   "metadata": {
    "colab": {
     "base_uri": "https://localhost:8080/",
     "height": 51
    },
    "colab_type": "code",
    "executionInfo": {
     "elapsed": 3151,
     "status": "ok",
     "timestamp": 1592907098847,
     "user": {
      "displayName": "Sharoon Saxena",
      "photoUrl": "https://lh3.googleusercontent.com/a-/AOh14GjyKz9rNCPkHi6QK8TjrjBFlTtaI9ngf0hIwgAl=s64",
      "userId": "01167841530696023488"
     },
     "user_tz": -330
    },
    "id": "L9GUjiCShCZ5",
    "outputId": "354ec8a4-027a-456f-decc-7724683cfdb9"
   },
   "outputs": [
    {
     "data": {
      "text/plain": [
       "array([0, 0, 0, 0, 0, 0, 0, 0, 0, 1, 0, 0, 0, 1, 0, 0, 0, 1, 0, 1, 0, 0,\n",
       "       0, 0, 0, 0, 0, 0, 0, 0], dtype=int64)"
      ]
     },
     "execution_count": 11,
     "metadata": {},
     "output_type": "execute_result"
    }
   ],
   "source": [
    "predicted_values[:30]"
   ]
  },
  {
   "cell_type": "markdown",
   "metadata": {
    "colab_type": "text",
    "id": "tG5WMfOnR9P3"
   },
   "source": [
    "## Evaluation Metrics"
   ]
  },
  {
   "cell_type": "code",
   "execution_count": 12,
   "metadata": {
    "colab": {
     "base_uri": "https://localhost:8080/",
     "height": 170
    },
    "colab_type": "code",
    "executionInfo": {
     "elapsed": 3140,
     "status": "ok",
     "timestamp": 1592907098848,
     "user": {
      "displayName": "Sharoon Saxena",
      "photoUrl": "https://lh3.googleusercontent.com/a-/AOh14GjyKz9rNCPkHi6QK8TjrjBFlTtaI9ngf0hIwgAl=s64",
      "userId": "01167841530696023488"
     },
     "user_tz": -330
    },
    "id": "15HWHefUDosH",
    "outputId": "f7025979-dd04-4212-8416-39663c03711b"
   },
   "outputs": [
    {
     "name": "stdout",
     "output_type": "stream",
     "text": [
      "              precision    recall  f1-score   support\n",
      "\n",
      "           0       1.00      1.00      1.00     14234\n",
      "           1       1.00      1.00      1.00      3419\n",
      "\n",
      "    accuracy                           1.00     17653\n",
      "   macro avg       1.00      1.00      1.00     17653\n",
      "weighted avg       1.00      1.00      1.00     17653\n",
      "\n"
     ]
    }
   ],
   "source": [
    "from sklearn.metrics import classification_report\n",
    "print(classification_report(y_train, predicted_values))"
   ]
  },
  {
   "cell_type": "code",
   "execution_count": 13,
   "metadata": {
    "colab": {
     "base_uri": "https://localhost:8080/",
     "height": 170
    },
    "colab_type": "code",
    "executionInfo": {
     "elapsed": 3125,
     "status": "ok",
     "timestamp": 1592907098849,
     "user": {
      "displayName": "Sharoon Saxena",
      "photoUrl": "https://lh3.googleusercontent.com/a-/AOh14GjyKz9rNCPkHi6QK8TjrjBFlTtaI9ngf0hIwgAl=s64",
      "userId": "01167841530696023488"
     },
     "user_tz": -330
    },
    "id": "CCVYNEdD3qSt",
    "outputId": "88cb22f5-ff0e-40de-f8c8-c00ad1f7ac92"
   },
   "outputs": [
    {
     "name": "stdout",
     "output_type": "stream",
     "text": [
      "              precision    recall  f1-score   support\n",
      "\n",
      "           0       0.87      0.86      0.86      3559\n",
      "           1       0.43      0.45      0.44       855\n",
      "\n",
      "    accuracy                           0.78      4414\n",
      "   macro avg       0.65      0.66      0.65      4414\n",
      "weighted avg       0.78      0.78      0.78      4414\n",
      "\n"
     ]
    }
   ],
   "source": [
    "predicted_values = classifier.predict(x_test)\n",
    "print(classification_report(y_test, predicted_values))"
   ]
  },
  {
   "cell_type": "raw",
   "metadata": {},
   "source": [
    "If the model is not learning and consistently performing poorly over the test and the train set then it is called the underfitting model.\n",
    "\n",
    "           A                                  B                                  C\n",
    "Not Interested in Learning           Memorizing the Lessons            Conceptual Learning\n",
    "Class test: 50%                        Class test: 98%                  Class test: 92%\n",
    "Test: 47%                               Test: 69%                         Test: 89%\n",
    "Underfit/Less Learning               Overfit/Memorizing\n",
    "\n",
    "\n",
    "Linear model:\n",
    "A parametric model that has a finite and fixed set of parameters to learn.\n",
    "Decision tree:\n",
    "A non parametric model that keeps on learning from the data unless there is nothing left to learn.\n",
    "\n",
    "Learning each and every point in the dataset results in an overfitting model.\n",
    "If no. of nodes = the total no. of data points\n",
    "It means, one leaf node has only one data point."
   ]
  },
  {
   "cell_type": "raw",
   "metadata": {},
   "source": [
    "Pruning:\n",
    "Preventing a decision tree from overfitting by tuning its characteristics.\n",
    "train_score - The list of scores when predictions are made on the training set.\n",
    "x_axis - The list of parameter values which were used to generate the respective f1 scores which are on the y axis.\n",
    "The max_depth parameter reduces the growth of the decision tree at a macro level.\n",
    "\n",
    "The default value of the: minimum_sample_split = 2\n",
    "By increasing the value of the minimum_sample_split, the decision tree can be prevented from overfitting.\n",
    "\n",
    "max_leaf_nodes: The maximum number of leaf or terminal nodes.\n",
    "Splitting will stop if the No. terminal nodes > specified number\n",
    "min_sample_leaf: The minimum number of samples that should be present in the leaf node after splitting.\n",
    "Macro:\n",
    "max_depth parameter\n",
    "Micro:\n",
    "min_samples_split\n",
    "max_leaf_nodes\n",
    "min_samples_leaf\n",
    "\n",
    "Firstly, tune the 'max_depth' parameter.\n",
    "Then, tune the 'min_samples_split', 'max_leaf_nodes' 'min_samples_leaf parameters.\n",
    "Choose a decision tree that generalizes well."
   ]
  },
  {
   "cell_type": "raw",
   "metadata": {},
   "source": [
    "Why do we need to perform pruning for the decision tree model?\n",
    "A. To prevent overfitting\n",
    "B. To improve accuracy.\n",
    "C. To improve model running time\n",
    "\n",
    "Which of the following parameter(s) can help to prevent overfitting?\n",
    "A. Max depth\n",
    "B. Min samples for node split\n",
    "C. Min samples for leaf node\n",
    "Max Depth, min samples for node split, and min samples for leaf nodes can control the complexity of the decision tree.\n",
    "\n",
    "To reduce the underfitting of a decision tree model, which of the following methods can be used?\n",
    "B. Increase the depth of trees\n",
    "Increasing the minimum sample leaf value will reduce overfitting and increasing the value of minimum samples to split will also lead to reduction in overfitting. Increasing the depth of the tree will reduce the underfitting.\n",
    "\n",
    "To reduce the overfitting of a decision tree model, which of the following methods can be used?\n",
    "A. Increase the minimum sample leaf value\n",
    "B. Decrease the depth of trees\n",
    "C. Increase the value of minimum samples to split\n"
   ]
  },
  {
   "cell_type": "markdown",
   "metadata": {
    "colab_type": "text",
    "id": "P3pqMgqrWzaF"
   },
   "source": [
    "# Visualising Decision Tree"
   ]
  },
  {
   "cell_type": "code",
   "execution_count": 14,
   "metadata": {
    "colab": {
     "base_uri": "https://localhost:8080/",
     "height": 34
    },
    "colab_type": "code",
    "executionInfo": {
     "elapsed": 8357,
     "status": "ok",
     "timestamp": 1592907104098,
     "user": {
      "displayName": "Sharoon Saxena",
      "photoUrl": "https://lh3.googleusercontent.com/a-/AOh14GjyKz9rNCPkHi6QK8TjrjBFlTtaI9ngf0hIwgAl=s64",
      "userId": "01167841530696023488"
     },
     "user_tz": -330
    },
    "id": "X4YGwyYsoWrR",
    "outputId": "db802306-0890-42d6-c460-823108e11809"
   },
   "outputs": [
    {
     "name": "stdout",
     "output_type": "stream",
     "text": [
      "Requirement already satisfied: graphviz in c:\\users\\shrut\\anaconda\\lib\\site-packages (0.20.3)\n"
     ]
    }
   ],
   "source": [
    "!pip install graphviz"
   ]
  },
  {
   "cell_type": "code",
   "execution_count": 15,
   "metadata": {
    "colab": {},
    "colab_type": "code",
    "executionInfo": {
     "elapsed": 8347,
     "status": "ok",
     "timestamp": 1592907104100,
     "user": {
      "displayName": "Sharoon Saxena",
      "photoUrl": "https://lh3.googleusercontent.com/a-/AOh14GjyKz9rNCPkHi6QK8TjrjBFlTtaI9ngf0hIwgAl=s64",
      "userId": "01167841530696023488"
     },
     "user_tz": -330
    },
    "id": "y8LsZbsKmm51"
   },
   "outputs": [
    {
     "data": {
      "text/plain": [
       "\"\\nsklearn.tree.plot_tree(decision_tree, *, max_depth=None, feature_names=None, class_names=None,\\n                         label='all', filled=False, impurity=True, node_ids=False, \\n                         proportion=False, rounded=False, precision=3, ax=None, fontsize=None)\\n\""
      ]
     },
     "execution_count": 15,
     "metadata": {},
     "output_type": "execute_result"
    }
   ],
   "source": [
    "from sklearn.tree import export_graphviz\n",
    "export_graphviz(decision_tree = classifier, out_file = 'tree_viz',max_depth=None,\n",
    "                feature_names = X.columns ,label = 'none', impurity = False )\n",
    "'''\n",
    "sklearn.tree.plot_tree(decision_tree, *, max_depth=None, feature_names=None, class_names=None,\n",
    "                         label='all', filled=False, impurity=True, node_ids=False, \n",
    "                         proportion=False, rounded=False, precision=3, ax=None, fontsize=None)\n",
    "'''"
   ]
  },
  {
   "cell_type": "code",
   "execution_count": null,
   "metadata": {
    "colab": {
     "base_uri": "https://localhost:8080/",
     "height": 34
    },
    "colab_type": "code",
    "executionInfo": {
     "elapsed": 135290,
     "status": "ok",
     "timestamp": 1592907231065,
     "user": {
      "displayName": "Sharoon Saxena",
      "photoUrl": "https://lh3.googleusercontent.com/a-/AOh14GjyKz9rNCPkHi6QK8TjrjBFlTtaI9ngf0hIwgAl=s64",
      "userId": "01167841530696023488"
     },
     "user_tz": -330
    },
    "id": "4o3o8G6Tu9eQ",
    "outputId": "b64c0c4b-7997-46f5-84ea-8828ab4c63df",
    "scrolled": true
   },
   "outputs": [],
   "source": [
    "from graphviz import render\n",
    "render(  filepath='tree_viz', format = 'png', engine = 'neato')"
   ]
  },
  {
   "cell_type": "markdown",
   "metadata": {
    "colab_type": "text",
    "id": "MxZEdZn8OqyF"
   },
   "source": [
    "# Hyperparamter Tuning"
   ]
  },
  {
   "cell_type": "code",
   "execution_count": 16,
   "metadata": {
    "colab": {
     "base_uri": "https://localhost:8080/",
     "height": 119
    },
    "colab_type": "code",
    "executionInfo": {
     "elapsed": 135269,
     "status": "ok",
     "timestamp": 1592907231067,
     "user": {
      "displayName": "Sharoon Saxena",
      "photoUrl": "https://lh3.googleusercontent.com/a-/AOh14GjyKz9rNCPkHi6QK8TjrjBFlTtaI9ngf0hIwgAl=s64",
      "userId": "01167841530696023488"
     },
     "user_tz": -330
    },
    "id": "n76WN8hVkUrm",
    "outputId": "70e7878b-3f40-4d6a-cfd7-912130c191f9"
   },
   "outputs": [
    {
     "data": {
      "text/html": [
       "<style>#sk-container-id-1 {color: black;}#sk-container-id-1 pre{padding: 0;}#sk-container-id-1 div.sk-toggleable {background-color: white;}#sk-container-id-1 label.sk-toggleable__label {cursor: pointer;display: block;width: 100%;margin-bottom: 0;padding: 0.3em;box-sizing: border-box;text-align: center;}#sk-container-id-1 label.sk-toggleable__label-arrow:before {content: \"▸\";float: left;margin-right: 0.25em;color: #696969;}#sk-container-id-1 label.sk-toggleable__label-arrow:hover:before {color: black;}#sk-container-id-1 div.sk-estimator:hover label.sk-toggleable__label-arrow:before {color: black;}#sk-container-id-1 div.sk-toggleable__content {max-height: 0;max-width: 0;overflow: hidden;text-align: left;background-color: #f0f8ff;}#sk-container-id-1 div.sk-toggleable__content pre {margin: 0.2em;color: black;border-radius: 0.25em;background-color: #f0f8ff;}#sk-container-id-1 input.sk-toggleable__control:checked~div.sk-toggleable__content {max-height: 200px;max-width: 100%;overflow: auto;}#sk-container-id-1 input.sk-toggleable__control:checked~label.sk-toggleable__label-arrow:before {content: \"▾\";}#sk-container-id-1 div.sk-estimator input.sk-toggleable__control:checked~label.sk-toggleable__label {background-color: #d4ebff;}#sk-container-id-1 div.sk-label input.sk-toggleable__control:checked~label.sk-toggleable__label {background-color: #d4ebff;}#sk-container-id-1 input.sk-hidden--visually {border: 0;clip: rect(1px 1px 1px 1px);clip: rect(1px, 1px, 1px, 1px);height: 1px;margin: -1px;overflow: hidden;padding: 0;position: absolute;width: 1px;}#sk-container-id-1 div.sk-estimator {font-family: monospace;background-color: #f0f8ff;border: 1px dotted black;border-radius: 0.25em;box-sizing: border-box;margin-bottom: 0.5em;}#sk-container-id-1 div.sk-estimator:hover {background-color: #d4ebff;}#sk-container-id-1 div.sk-parallel-item::after {content: \"\";width: 100%;border-bottom: 1px solid gray;flex-grow: 1;}#sk-container-id-1 div.sk-label:hover label.sk-toggleable__label {background-color: #d4ebff;}#sk-container-id-1 div.sk-serial::before {content: \"\";position: absolute;border-left: 1px solid gray;box-sizing: border-box;top: 0;bottom: 0;left: 50%;z-index: 0;}#sk-container-id-1 div.sk-serial {display: flex;flex-direction: column;align-items: center;background-color: white;padding-right: 0.2em;padding-left: 0.2em;position: relative;}#sk-container-id-1 div.sk-item {position: relative;z-index: 1;}#sk-container-id-1 div.sk-parallel {display: flex;align-items: stretch;justify-content: center;background-color: white;position: relative;}#sk-container-id-1 div.sk-item::before, #sk-container-id-1 div.sk-parallel-item::before {content: \"\";position: absolute;border-left: 1px solid gray;box-sizing: border-box;top: 0;bottom: 0;left: 50%;z-index: -1;}#sk-container-id-1 div.sk-parallel-item {display: flex;flex-direction: column;z-index: 1;position: relative;background-color: white;}#sk-container-id-1 div.sk-parallel-item:first-child::after {align-self: flex-end;width: 50%;}#sk-container-id-1 div.sk-parallel-item:last-child::after {align-self: flex-start;width: 50%;}#sk-container-id-1 div.sk-parallel-item:only-child::after {width: 0;}#sk-container-id-1 div.sk-dashed-wrapped {border: 1px dashed gray;margin: 0 0.4em 0.5em 0.4em;box-sizing: border-box;padding-bottom: 0.4em;background-color: white;}#sk-container-id-1 div.sk-label label {font-family: monospace;font-weight: bold;display: inline-block;line-height: 1.2em;}#sk-container-id-1 div.sk-label-container {text-align: center;}#sk-container-id-1 div.sk-container {/* jupyter's `normalize.less` sets `[hidden] { display: none; }` but bootstrap.min.css set `[hidden] { display: none !important; }` so we also need the `!important` here to be able to override the default hidden behavior on the sphinx rendered scikit-learn.org. See: https://github.com/scikit-learn/scikit-learn/issues/21755 */display: inline-block !important;position: relative;}#sk-container-id-1 div.sk-text-repr-fallback {display: none;}</style><div id=\"sk-container-id-1\" class=\"sk-top-container\"><div class=\"sk-text-repr-fallback\"><pre>DecisionTreeClassifier()</pre><b>In a Jupyter environment, please rerun this cell to show the HTML representation or trust the notebook. <br />On GitHub, the HTML representation is unable to render, please try loading this page with nbviewer.org.</b></div><div class=\"sk-container\" hidden><div class=\"sk-item\"><div class=\"sk-estimator sk-toggleable\"><input class=\"sk-toggleable__control sk-hidden--visually\" id=\"sk-estimator-id-1\" type=\"checkbox\" checked><label for=\"sk-estimator-id-1\" class=\"sk-toggleable__label sk-toggleable__label-arrow\">DecisionTreeClassifier</label><div class=\"sk-toggleable__content\"><pre>DecisionTreeClassifier()</pre></div></div></div></div></div>"
      ],
      "text/plain": [
       "DecisionTreeClassifier()"
      ]
     },
     "execution_count": 16,
     "metadata": {},
     "output_type": "execute_result"
    }
   ],
   "source": [
    "classifier = DTC()\n",
    "classifier.fit(x_train, y_train)"
   ]
  },
  {
   "cell_type": "markdown",
   "metadata": {
    "colab_type": "text",
    "id": "UMtSqLSlOvAF"
   },
   "source": [
    "## max_depth"
   ]
  },
  {
   "cell_type": "code",
   "execution_count": 17,
   "metadata": {
    "colab": {},
    "colab_type": "code",
    "executionInfo": {
     "elapsed": 135258,
     "status": "ok",
     "timestamp": 1592907231068,
     "user": {
      "displayName": "Sharoon Saxena",
      "photoUrl": "https://lh3.googleusercontent.com/a-/AOh14GjyKz9rNCPkHi6QK8TjrjBFlTtaI9ngf0hIwgAl=s64",
      "userId": "01167841530696023488"
     },
     "user_tz": -330
    },
    "id": "OsNZkSRM_0v-"
   },
   "outputs": [],
   "source": [
    "from sklearn.metrics import f1_score\n",
    "def calc_score(model, x1, y1, x2, y2):\n",
    "  model.fit(x1,y1)\n",
    "  predict = model.predict(x1)\n",
    "  f1 = f1_score(y1, predict)\n",
    "  predict = model.predict(x2) \n",
    "  f2 = f1_score(y2, predict)\n",
    "  return f1, f2"
   ]
  },
  {
   "cell_type": "code",
   "execution_count": 18,
   "metadata": {
    "colab": {},
    "colab_type": "code",
    "executionInfo": {
     "elapsed": 135247,
     "status": "ok",
     "timestamp": 1592907231069,
     "user": {
      "displayName": "Sharoon Saxena",
      "photoUrl": "https://lh3.googleusercontent.com/a-/AOh14GjyKz9rNCPkHi6QK8TjrjBFlTtaI9ngf0hIwgAl=s64",
      "userId": "01167841530696023488"
     },
     "user_tz": -330
    },
    "id": "AQb03stAEAES"
   },
   "outputs": [],
   "source": [
    "def effect(train_score, test_score, x_axis, title):\n",
    "  plt.figure(figsize = (5,5), dpi = 120)\n",
    "  plt.plot(x_axis, train_score, color = 'red', label = 'train_Score')\n",
    "  plt.plot(x_axis, test_score, color = 'blue', label = 'test_Score')\n",
    "  plt.title(title)\n",
    "  plt.legend()\n",
    "  plt.xlabel(\"parameter_value\")\n",
    "  plt.ylabel(\"f1 score\")\n",
    "  plt.show()"
   ]
  },
  {
   "cell_type": "code",
   "execution_count": 19,
   "metadata": {
    "colab": {},
    "colab_type": "code",
    "executionInfo": {
     "elapsed": 155181,
     "status": "ok",
     "timestamp": 1592907251014,
     "user": {
      "displayName": "Sharoon Saxena",
      "photoUrl": "https://lh3.googleusercontent.com/a-/AOh14GjyKz9rNCPkHi6QK8TjrjBFlTtaI9ngf0hIwgAl=s64",
      "userId": "01167841530696023488"
     },
     "user_tz": -330
    },
    "id": "D0TkaaiDDhdZ"
   },
   "outputs": [],
   "source": [
    "maxdepth = [i for i in range(1,50)]\n",
    "train = []\n",
    "test = []\n",
    "for i in maxdepth:\n",
    "  model = DTC(class_weight = 'balanced', max_depth = i, random_state = 42)\n",
    "  f1, f2 = calc_score(model, x_train, y_train, x_test, y_test)\n",
    "  train.append(f1)\n",
    "  test.append(f2)"
   ]
  },
  {
   "cell_type": "code",
   "execution_count": 20,
   "metadata": {
    "colab": {
     "base_uri": "https://localhost:8080/",
     "height": 573
    },
    "colab_type": "code",
    "executionInfo": {
     "elapsed": 155173,
     "status": "ok",
     "timestamp": 1592907251017,
     "user": {
      "displayName": "Sharoon Saxena",
      "photoUrl": "https://lh3.googleusercontent.com/a-/AOh14GjyKz9rNCPkHi6QK8TjrjBFlTtaI9ngf0hIwgAl=s64",
      "userId": "01167841530696023488"
     },
     "user_tz": -330
    },
    "id": "RkE_OhuPFAfK",
    "outputId": "ec7d2655-6aa5-47b9-d981-e164b26eeb27",
    "scrolled": true
   },
   "outputs": [
    {
     "data": {
      "image/png": "[encoded data removed]",
      "text/plain": [
       "<Figure size 600x600 with 1 Axes>"
      ]
     },
     "metadata": {},
     "output_type": "display_data"
    }
   ],
   "source": [
    "effect( train, test, range(1,50) , 'max_depth')"
   ]
  },
  {
   "cell_type": "markdown",
   "metadata": {
    "colab_type": "text",
    "id": "cphLDUO4OUVI"
   },
   "source": [
    "## min_samples_split"
   ]
  },
  {
   "cell_type": "code",
   "execution_count": 21,
   "metadata": {
    "colab": {},
    "colab_type": "code",
    "executionInfo": {
     "elapsed": 202745,
     "status": "ok",
     "timestamp": 1592907298602,
     "user": {
      "displayName": "Sharoon Saxena",
      "photoUrl": "https://lh3.googleusercontent.com/a-/AOh14GjyKz9rNCPkHi6QK8TjrjBFlTtaI9ngf0hIwgAl=s64",
      "userId": "01167841530696023488"
     },
     "user_tz": -330
    },
    "id": "6vtR17UCNzTY"
   },
   "outputs": [],
   "source": [
    "min_samples = [i for i in range(2,5000,25)]\n",
    "train = []\n",
    "test = []\n",
    "for i in min_samples:  \n",
    "  model = DTC(class_weight = 'balanced', min_samples_split = i, random_state = 42)\n",
    "  f1, f2 = calc_score(model, x_train, y_train, x_test, y_test)\n",
    "  train.append(f1)\n",
    "  test.append(f2)"
   ]
  },
  {
   "cell_type": "code",
   "execution_count": 22,
   "metadata": {
    "colab": {
     "base_uri": "https://localhost:8080/",
     "height": 573
    },
    "colab_type": "code",
    "executionInfo": {
     "elapsed": 202732,
     "status": "ok",
     "timestamp": 1592907298604,
     "user": {
      "displayName": "Sharoon Saxena",
      "photoUrl": "https://lh3.googleusercontent.com/a-/AOh14GjyKz9rNCPkHi6QK8TjrjBFlTtaI9ngf0hIwgAl=s64",
      "userId": "01167841530696023488"
     },
     "user_tz": -330
    },
    "id": "yi8vzejROji5",
    "outputId": "a27d1ed2-05c4-4609-b5b1-6613cadfdbf1",
    "scrolled": true
   },
   "outputs": [
    {
     "data": {
      "image/png": "[encoded data removed]",
      "text/plain": [
       "<Figure size 600x600 with 1 Axes>"
      ]
     },
     "metadata": {},
     "output_type": "display_data"
    }
   ],
   "source": [
    "effect( train, test, range(2,5000,25), 'min_samples_split')"
   ]
  },
  {
   "cell_type": "markdown",
   "metadata": {
    "colab_type": "text",
    "id": "L4CpWINnrgJi"
   },
   "source": [
    "## max_leaf_nodes"
   ]
  },
  {
   "cell_type": "code",
   "execution_count": 23,
   "metadata": {
    "colab": {},
    "colab_type": "code",
    "executionInfo": {
     "elapsed": 207856,
     "status": "ok",
     "timestamp": 1592907303741,
     "user": {
      "displayName": "Sharoon Saxena",
      "photoUrl": "https://lh3.googleusercontent.com/a-/AOh14GjyKz9rNCPkHi6QK8TjrjBFlTtaI9ngf0hIwgAl=s64",
      "userId": "01167841530696023488"
     },
     "user_tz": -330
    },
    "id": "3-shKyxLPD-Y"
   },
   "outputs": [],
   "source": [
    "maxleafnodes = [i for i in range(2,200,10)]\n",
    "train = []\n",
    "test = []\n",
    "for i in maxleafnodes:  \n",
    "  model = DTC(class_weight = 'balanced', max_leaf_nodes = i, random_state = 42)\n",
    "  f1, f2 = calc_score(model, x_train, y_train, x_test, y_test)\n",
    "  train.append(f1)\n",
    "  test.append(f2)"
   ]
  },
  {
   "cell_type": "code",
   "execution_count": 24,
   "metadata": {
    "colab": {
     "base_uri": "https://localhost:8080/",
     "height": 573
    },
    "colab_type": "code",
    "executionInfo": {
     "elapsed": 207848,
     "status": "ok",
     "timestamp": 1592907303742,
     "user": {
      "displayName": "Sharoon Saxena",
      "photoUrl": "https://lh3.googleusercontent.com/a-/AOh14GjyKz9rNCPkHi6QK8TjrjBFlTtaI9ngf0hIwgAl=s64",
      "userId": "01167841530696023488"
     },
     "user_tz": -330
    },
    "id": "w8RyuolasKrl",
    "outputId": "c2a472c7-f855-46a8-98f1-31851c12c517",
    "scrolled": true
   },
   "outputs": [
    {
     "data": {
      "image/png": "[encoded data removed]",
      "text/plain": [
       "<Figure size 600x600 with 1 Axes>"
      ]
     },
     "metadata": {},
     "output_type": "display_data"
    }
   ],
   "source": [
    "effect( train, test, range(2,200,10) , 'max_leaf_nodes')"
   ]
  },
  {
   "cell_type": "markdown",
   "metadata": {
    "colab_type": "text",
    "id": "cbZkoDEvfTrT"
   },
   "source": [
    "## min_samples_leaf"
   ]
  },
  {
   "cell_type": "code",
   "execution_count": 25,
   "metadata": {
    "colab": {},
    "colab_type": "code",
    "executionInfo": {
     "elapsed": 230622,
     "status": "ok",
     "timestamp": 1592907326528,
     "user": {
      "displayName": "Sharoon Saxena",
      "photoUrl": "https://lh3.googleusercontent.com/a-/AOh14GjyKz9rNCPkHi6QK8TjrjBFlTtaI9ngf0hIwgAl=s64",
      "userId": "01167841530696023488"
     },
     "user_tz": -330
    },
    "id": "tH0b2AdQfe48"
   },
   "outputs": [],
   "source": [
    "minsamplesleaf = [i for i in range(2,4000,25)]\n",
    "train = []\n",
    "test = []\n",
    "for i in minsamplesleaf:  \n",
    "  model = DTC(class_weight = 'balanced', min_samples_leaf = i, random_state = 42)\n",
    "  f1, f2 = calc_score(model, x_train, y_train, x_test, y_test)\n",
    "  train.append(f1)\n",
    "  test.append(f2)"
   ]
  },
  {
   "cell_type": "code",
   "execution_count": 26,
   "metadata": {
    "colab": {
     "base_uri": "https://localhost:8080/",
     "height": 573
    },
    "colab_type": "code",
    "executionInfo": {
     "elapsed": 230614,
     "status": "ok",
     "timestamp": 1592907326529,
     "user": {
      "displayName": "Sharoon Saxena",
      "photoUrl": "https://lh3.googleusercontent.com/a-/AOh14GjyKz9rNCPkHi6QK8TjrjBFlTtaI9ngf0hIwgAl=s64",
      "userId": "01167841530696023488"
     },
     "user_tz": -330
    },
    "id": "XVkySDs2fe5B",
    "outputId": "88f924f1-36e3-4feb-bab9-70532329cbc8",
    "scrolled": true
   },
   "outputs": [
    {
     "data": {
      "image/png": "[encoded data removed]",
      "text/plain": [
       "<Figure size 600x600 with 1 Axes>"
      ]
     },
     "metadata": {},
     "output_type": "display_data"
    }
   ],
   "source": [
    "effect( train, test, range(2,4000,25) , 'min_samples_leaf')"
   ]
  },
  {
   "cell_type": "code",
   "execution_count": 27,
   "metadata": {
    "colab": {},
    "colab_type": "code",
    "executionInfo": {
     "elapsed": 230602,
     "status": "ok",
     "timestamp": 1592907326530,
     "user": {
      "displayName": "Sharoon Saxena",
      "photoUrl": "https://lh3.googleusercontent.com/a-/AOh14GjyKz9rNCPkHi6QK8TjrjBFlTtaI9ngf0hIwgAl=s64",
      "userId": "01167841530696023488"
     },
     "user_tz": -330
    },
    "id": "TTa4WT0CfeZP"
   },
   "outputs": [],
   "source": [
    "model = DTC(max_depth = 9)\n",
    "model.fit(x_train, y_train)\n",
    "feature_imp = pd.Series(model.feature_importances_, index = X.columns)\n",
    "k = feature_imp.sort_values()"
   ]
  },
  {
   "cell_type": "code",
   "execution_count": 28,
   "metadata": {
    "colab": {
     "base_uri": "https://localhost:8080/",
     "height": 390
    },
    "colab_type": "code",
    "executionInfo": {
     "elapsed": 231790,
     "status": "ok",
     "timestamp": 1592907327774,
     "user": {
      "displayName": "Sharoon Saxena",
      "photoUrl": "https://lh3.googleusercontent.com/a-/AOh14GjyKz9rNCPkHi6QK8TjrjBFlTtaI9ngf0hIwgAl=s64",
      "userId": "01167841530696023488"
     },
     "user_tz": -330
    },
    "id": "YzgyhvANClWI",
    "outputId": "b6c46945-3ab0-438e-ba4a-f5fded3edba8",
    "scrolled": false
   },
   "outputs": [
    {
     "data": {
      "text/plain": [
       "Text(0.5, 1.0, 'feature importance')"
      ]
     },
     "execution_count": 28,
     "metadata": {},
     "output_type": "execute_result"
    },
    {
     "data": {
      "image/png": "[encoded data removed]",
      "text/plain": [
       "<Figure size 1200x600 with 1 Axes>"
      ]
     },
     "metadata": {},
     "output_type": "display_data"
    }
   ],
   "source": [
    "plt.figure(figsize = (10,5), dpi = 120)\n",
    "plt.barh(k.index, k)\n",
    "plt.xlabel('Importance')\n",
    "plt.ylabel('feature_name')\n",
    "plt.title('feature importance')"
   ]
  },
  {
   "cell_type": "code",
   "execution_count": null,
   "metadata": {},
   "outputs": [],
   "source": []
  }
 ],
 "metadata": {
  "colab": {
   "collapsed_sections": [],
   "name": "Topic3.ipynb",
   "provenance": []
  },
  "kernelspec": {
   "display_name": "Python 3 (ipykernel)",
   "language": "python",
   "name": "python3"
  },
  "language_info": {
   "codemirror_mode": {
    "name": "ipython",
    "version": 3
   },
   "file_extension": ".py",
   "mimetype": "text/x-python",
   "name": "python",
   "nbconvert_exporter": "python",
   "pygments_lexer": "ipython3",
   "version": "3.11.4"
  }
 },
 "nbformat": 4,
 "nbformat_minor": 1
}
